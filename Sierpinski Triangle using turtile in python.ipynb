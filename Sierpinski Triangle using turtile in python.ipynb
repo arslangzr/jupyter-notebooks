{
 "cells": [
  {
   "cell_type": "code",
   "execution_count": 1,
   "id": "939452ed",
   "metadata": {},
   "outputs": [],
   "source": [
    "import turtle\n",
    "def draw_sierpinski(length,depth):\n",
    "    if depth==0:\n",
    "        for i in range(0,3):\n",
    "            t.fd(length)\n",
    "            t.left(120)\n",
    "    else:\n",
    "        draw_sierpinski(length/2,depth-1)\n",
    "        t.fd(length/2)\n",
    "        draw_sierpinski(length/2,depth-1)\n",
    "        t.bk(length/2)\n",
    "        t.left(60)\n",
    "        t.fd(length/2)\n",
    "        t.right(60)\n",
    "        draw_sierpinski(length/2,depth-1)\n",
    "\n",
    "\n",
    "window = turtle.Screen()\n",
    "t = turtle.Turtle()\n",
    "draw_sierpinski(500,1)\n",
    "window.exitonclick()\n",
    "\n"
   ]
  },
  {
   "cell_type": "code",
   "execution_count": null,
   "id": "7b03fb47",
   "metadata": {},
   "outputs": [],
   "source": []
  }
 ],
 "metadata": {
  "kernelspec": {
   "display_name": "Python 3 (ipykernel)",
   "language": "python",
   "name": "python3"
  },
  "language_info": {
   "codemirror_mode": {
    "name": "ipython",
    "version": 3
   },
   "file_extension": ".py",
   "mimetype": "text/x-python",
   "name": "python",
   "nbconvert_exporter": "python",
   "pygments_lexer": "ipython3",
   "version": "3.10.6"
  }
 },
 "nbformat": 4,
 "nbformat_minor": 5
}
