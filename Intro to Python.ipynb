{
 "cells": [
  {
   "cell_type": "markdown",
   "metadata": {},
   "source": [
    "### 1. Import Libraries"
   ]
  },
  {
   "cell_type": "code",
   "execution_count": 2,
   "metadata": {},
   "outputs": [
    {
     "data": {
      "text/plain": [
       "5.0"
      ]
     },
     "execution_count": 2,
     "metadata": {},
     "output_type": "execute_result"
    }
   ],
   "source": [
    "# 'generic import' of math module\n",
    "import math\n",
    "math.sqrt(25)"
   ]
  },
  {
   "cell_type": "code",
   "execution_count": 3,
   "metadata": {},
   "outputs": [
    {
     "data": {
      "text/plain": [
       "5.0"
      ]
     },
     "execution_count": 3,
     "metadata": {},
     "output_type": "execute_result"
    }
   ],
   "source": [
    "# import a function\n",
    "from math import sqrt\n",
    "sqrt(25) # no longer have to reference the module"
   ]
  },
  {
   "cell_type": "code",
   "execution_count": 4,
   "metadata": {},
   "outputs": [],
   "source": [
    "# import multiple functions at once\n",
    "from math import cos, floor\n"
   ]
  },
  {
   "cell_type": "code",
   "execution_count": 5,
   "metadata": {},
   "outputs": [],
   "source": [
    "# import all functions in a module (generally discouraged)\n",
    "# from os import *\n",
    "\n",
    "# define an alias\n",
    "import numpy as np"
   ]
  },
  {
   "cell_type": "code",
   "execution_count": 8,
   "metadata": {},
   "outputs": [
    {
     "name": "stdout",
     "output_type": "stream",
     "text": [
      "['__doc__', '__loader__', '__name__', '__package__', '__spec__', 'acos', 'acosh', 'asin', 'asinh', 'atan', 'atan2', 'atanh', 'ceil', 'copysign', 'cos', 'cosh', 'degrees', 'e', 'erf', 'erfc', 'exp', 'expm1', 'fabs', 'factorial', 'floor', 'fmod', 'frexp', 'fsum', 'gamma', 'gcd', 'hypot', 'inf', 'isclose', 'isfinite', 'isinf', 'isnan', 'ldexp', 'lgamma', 'log', 'log10', 'log1p', 'log2', 'modf', 'nan', 'pi', 'pow', 'radians', 'remainder', 'sin', 'sinh', 'sqrt', 'tan', 'tanh', 'tau', 'trunc']\n"
     ]
    }
   ],
   "source": [
    "# show all functions in math module\n",
    "content = dir(math)\n",
    "print(content)"
   ]
  },
  {
   "cell_type": "markdown",
   "metadata": {},
   "source": [
    "### 2. Basic Operations"
   ]
  },
  {
   "cell_type": "code",
   "execution_count": 14,
   "metadata": {},
   "outputs": [
    {
     "name": "stdout",
     "output_type": "stream",
     "text": [
      "14\n",
      "6\n",
      "40\n",
      "10000\n",
      "2\n",
      "2.5\n",
      "1\n",
      "2.5\n",
      "2\n"
     ]
    }
   ],
   "source": [
    "# Numbers\n",
    "print(10 + 4) # add (returns 14)\n",
    "\n",
    "print(10 - 4) # subtract (returns 6)\n",
    "\n",
    "print(10 * 4) # multiply (returns 40)\n",
    "\n",
    "print(10 ** 4) # exponent (returns 10000)\n",
    "\n",
    "print(int(10 /4)) # divide (returns 2 because type is 'int')\n",
    "\n",
    "print(10 / float(4)) # divide (returns 2.5)\n",
    "\n",
    "print(5 % 4) # modulo (returns 1) - also known as the remainder\n",
    "\n",
    "print(10 / 4) # true division (returns 2.5)\n",
    "\n",
    "print(10 // 4) # floor division (returns 2)"
   ]
  },
  {
   "cell_type": "code",
   "execution_count": 30,
   "metadata": {},
   "outputs": [
    {
     "name": "stdout",
     "output_type": "stream",
     "text": [
      "True\n",
      "True\n",
      "True\n",
      "True\n",
      "True\n",
      "True\n",
      "True\n",
      "True\n"
     ]
    }
   ],
   "source": [
    "# Boolean operations\n",
    "# comparisons (these return True)\n",
    "\n",
    "print(5 > 3)\n",
    "print(5 >= 3)\n",
    "print(5 != 3)\n",
    "print(5 == 5)\n",
    "\n",
    "# boolean operations (these return True)\n",
    "print(5 > 3 and 6 > 3)\n",
    "print(5 > 3 or 5 < 3)\n",
    "print(not False)\n",
    "print(False or not False and True) # evaluation order: not, and, or"
   ]
  },
  {
   "cell_type": "markdown",
   "metadata": {},
   "source": [
    "### 3. Data Types"
   ]
  },
  {
   "cell_type": "code",
   "execution_count": 33,
   "metadata": {},
   "outputs": [
    {
     "data": {
      "text/plain": [
       "NoneType"
      ]
     },
     "execution_count": 33,
     "metadata": {},
     "output_type": "execute_result"
    }
   ],
   "source": [
    "# determine the type of an object\n",
    "\n",
    "type(2) # returns 'int'\n",
    "type(2.0) # returns 'float'\n",
    "type('two') # returns 'str'\n",
    "type(True) # returns 'bool'\n",
    "type(None) # returns 'NoneType'"
   ]
  },
  {
   "cell_type": "code",
   "execution_count": 36,
   "metadata": {},
   "outputs": [
    {
     "data": {
      "text/plain": [
       "True"
      ]
     },
     "execution_count": 36,
     "metadata": {},
     "output_type": "execute_result"
    }
   ],
   "source": [
    "# check if an object is of a given type\n",
    "\n",
    "isinstance(2.0, int) # returns False\n",
    "isinstance(2.0, (int, float)) # returns True"
   ]
  },
  {
   "cell_type": "code",
   "execution_count": 37,
   "metadata": {},
   "outputs": [
    {
     "data": {
      "text/plain": [
       "'2.9'"
      ]
     },
     "execution_count": 37,
     "metadata": {},
     "output_type": "execute_result"
    }
   ],
   "source": [
    "# convert an object to a given type\n",
    "\n",
    "float(2)\n",
    "int(2.9)\n",
    "str(2.9)"
   ]
  },
  {
   "cell_type": "code",
   "execution_count": 38,
   "metadata": {},
   "outputs": [
    {
     "data": {
      "text/plain": [
       "False"
      ]
     },
     "execution_count": 38,
     "metadata": {},
     "output_type": "execute_result"
    }
   ],
   "source": [
    "# zero, None, and empty containers are converted to False\n",
    "\n",
    "bool(0)\n",
    "bool(None)\n",
    "bool('') # empty string\n",
    "bool([]) # empty list\n",
    "bool({}) # empty dictionary"
   ]
  },
  {
   "cell_type": "code",
   "execution_count": 39,
   "metadata": {},
   "outputs": [
    {
     "data": {
      "text/plain": [
       "True"
      ]
     },
     "execution_count": 39,
     "metadata": {},
     "output_type": "execute_result"
    }
   ],
   "source": [
    "# non-empty containers and non-zeros are converted to True\n",
    "\n",
    "bool(2)\n",
    "bool('two')\n",
    "bool([2])"
   ]
  },
  {
   "cell_type": "markdown",
   "metadata": {},
   "source": [
    "### 4. List"
   ]
  },
  {
   "cell_type": "markdown",
   "metadata": {},
   "source": [
    "Different objects categorized along a certain ordered sequence, lists are ordered, iterable, mutable\n",
    "(adding or removing objects changes the list size), can contain multiple data types"
   ]
  },
  {
   "cell_type": "code",
   "execution_count": 40,
   "metadata": {},
   "outputs": [],
   "source": [
    "# create an empty list (two ways)\n",
    "\n",
    "empty_list = []\n",
    "empty_list = list()"
   ]
  },
  {
   "cell_type": "code",
   "execution_count": 74,
   "metadata": {},
   "outputs": [
    {
     "data": {
      "text/plain": [
       "3"
      ]
     },
     "execution_count": 74,
     "metadata": {},
     "output_type": "execute_result"
    }
   ],
   "source": [
    "# create a list\n",
    "simpsons = ['homer', 'marge', 'bart']\n",
    "\n",
    "# examine a list\n",
    "simpsons[0] # print element 0 ('homer')\n",
    "len(simpsons) # returns the length (3)"
   ]
  },
  {
   "cell_type": "code",
   "execution_count": 75,
   "metadata": {},
   "outputs": [
    {
     "data": {
      "text/plain": [
       "['homer', 'marge', 'bart']"
      ]
     },
     "execution_count": 75,
     "metadata": {},
     "output_type": "execute_result"
    }
   ],
   "source": [
    "simpsons"
   ]
  },
  {
   "cell_type": "code",
   "execution_count": 76,
   "metadata": {},
   "outputs": [],
   "source": [
    "# modify a list (does not return the list)\n",
    "\n",
    "simpsons.append('lisa') # append element to end\n",
    "simpsons.extend(['itchy', 'scratchy']) # append multiple elements to end\n",
    "\n",
    "simpsons.insert(0, 'maggie') # insert element at index 0 (shifts everything␣˓→right)\n"
   ]
  },
  {
   "cell_type": "code",
   "execution_count": 77,
   "metadata": {},
   "outputs": [
    {
     "data": {
      "text/plain": [
       "['maggie', 'homer', 'marge', 'bart', 'lisa', 'itchy', 'scratchy']"
      ]
     },
     "execution_count": 77,
     "metadata": {},
     "output_type": "execute_result"
    }
   ],
   "source": [
    "simpsons"
   ]
  },
  {
   "cell_type": "code",
   "execution_count": 78,
   "metadata": {},
   "outputs": [
    {
     "data": {
      "text/plain": [
       "'maggie'"
      ]
     },
     "execution_count": 78,
     "metadata": {},
     "output_type": "execute_result"
    }
   ],
   "source": [
    "simpsons.remove('bart') # searches for first instance and removes it\n",
    "simpsons.pop(0) # removes element 0 and returns it\n",
    "\n"
   ]
  },
  {
   "cell_type": "code",
   "execution_count": 79,
   "metadata": {},
   "outputs": [
    {
     "data": {
      "text/plain": [
       "['homer', 'marge', 'lisa', 'itchy', 'scratchy']"
      ]
     },
     "execution_count": 79,
     "metadata": {},
     "output_type": "execute_result"
    }
   ],
   "source": [
    "simpsons"
   ]
  },
  {
   "cell_type": "code",
   "execution_count": 82,
   "metadata": {},
   "outputs": [],
   "source": [
    "del simpsons[0] # removes element 0 (does not return it)\n",
    "simpsons[0] = 'krusty' # replace element 0"
   ]
  },
  {
   "cell_type": "code",
   "execution_count": 84,
   "metadata": {},
   "outputs": [],
   "source": [
    "# concatenate lists (slower than 'extend' method)\n",
    "neighbors = simpsons + ['ned','rod','todd']"
   ]
  },
  {
   "cell_type": "code",
   "execution_count": 85,
   "metadata": {},
   "outputs": [
    {
     "data": {
      "text/plain": [
       "['krusty', 'itchy', 'scratchy', 'ned', 'rod', 'todd']"
      ]
     },
     "execution_count": 85,
     "metadata": {},
     "output_type": "execute_result"
    }
   ],
   "source": [
    "neighbors"
   ]
  },
  {
   "cell_type": "code",
   "execution_count": 86,
   "metadata": {},
   "outputs": [
    {
     "data": {
      "text/plain": [
       "1"
      ]
     },
     "execution_count": 86,
     "metadata": {},
     "output_type": "execute_result"
    }
   ],
   "source": [
    "# find elements in a list\n",
    "\n",
    "simpsons.count('lisa') # counts the number of instances\n",
    "simpsons.index('itchy') # returns index of first instance"
   ]
  },
  {
   "cell_type": "code",
   "execution_count": 100,
   "metadata": {},
   "outputs": [
    {
     "data": {
      "text/plain": [
       "['fri', 'thurs', 'wed', 'tues', 'mon']"
      ]
     },
     "execution_count": 100,
     "metadata": {},
     "output_type": "execute_result"
    }
   ],
   "source": [
    "# list slicing [start:end:stride]\n",
    "\n",
    "weekdays = ['mon','tues','wed','thurs','fri']\n",
    "weekdays[0] # element 0\n",
    "weekdays[0:3] # elements 0, 1, 2\n",
    "weekdays[:3] # elements 0, 1, 2\n",
    "weekdays[3:] # elements 3, 4\n",
    "weekdays[-1] # last element (element 4)\n",
    "weekdays[::2] # every 2nd element (0, 2, 4)\n",
    "weekdays[::-1] # backwards (4, 3, 2, 1, 0)\n",
    "\n",
    "# alternative method for returning the list backwards\n",
    "list(reversed(weekdays))"
   ]
  },
  {
   "cell_type": "code",
   "execution_count": 105,
   "metadata": {},
   "outputs": [],
   "source": [
    "# sort a list in place (modifies but does not return the list)\n",
    "\n",
    "simpsons.sort()\n",
    "simpsons.sort(reverse=True) # sort in reverse\n",
    "simpsons.sort(key=len) # sort by a key"
   ]
  },
  {
   "cell_type": "code",
   "execution_count": 108,
   "metadata": {},
   "outputs": [
    {
     "data": {
      "text/plain": [
       "['itchy', 'krusty', 'scratchy']"
      ]
     },
     "execution_count": 108,
     "metadata": {},
     "output_type": "execute_result"
    }
   ],
   "source": [
    "# return a sorted list (but does not modify the original list)\n",
    "\n",
    "sorted(simpsons)\n",
    "sorted(simpsons, reverse=True)\n",
    "sorted(simpsons, key=len)"
   ]
  },
  {
   "cell_type": "code",
   "execution_count": 111,
   "metadata": {},
   "outputs": [],
   "source": [
    "# create a second reference to the same list\n",
    "\n",
    "num = [1, 2, 3]\n",
    "same_num = num\n",
    "same_num[0] = 0 # modifies both 'num' and 'same_num'"
   ]
  },
  {
   "cell_type": "markdown",
   "metadata": {},
   "source": [
    "num"
   ]
  },
  {
   "cell_type": "code",
   "execution_count": 117,
   "metadata": {},
   "outputs": [],
   "source": [
    "# copy a list (three ways)\n",
    "\n",
    "new_num = num.copy()\n",
    "new_num = num[:]\n",
    "new_num = list(num)"
   ]
  },
  {
   "cell_type": "markdown",
   "metadata": {},
   "source": [
    "### 5. Tuples"
   ]
  },
  {
   "cell_type": "markdown",
   "metadata": {},
   "source": [
    "Like lists, but their size cannot change: ordered, iterable, immutable, can contain multiple data\n",
    "types"
   ]
  },
  {
   "cell_type": "code",
   "execution_count": 130,
   "metadata": {},
   "outputs": [],
   "source": [
    "# create a tuple\n",
    "\n",
    "digits = (0, 1, 'two') # create a tuple directly\n",
    "digits = tuple([0, 1, 'two']) # create a tuple from a list\n",
    "zero = (0,) # trailing comma is required to indicate it's a tuple"
   ]
  },
  {
   "cell_type": "code",
   "execution_count": 131,
   "metadata": {},
   "outputs": [
    {
     "data": {
      "text/plain": [
       "1"
      ]
     },
     "execution_count": 131,
     "metadata": {},
     "output_type": "execute_result"
    }
   ],
   "source": [
    "# examine a tuple\n",
    "digits[2] # returns 'two'\n",
    "len(digits) # returns 3\n",
    "digits.count(0) # counts the number of instances of that value (1)\n",
    "digits.index(1) # returns the index of the first instance of that value (1)\n",
    "\n",
    "# elements of a tuple cannot be modified\n",
    "# digits[2] = 2 # throws an error"
   ]
  },
  {
   "cell_type": "code",
   "execution_count": 133,
   "metadata": {},
   "outputs": [],
   "source": [
    "# concatenate tuples\n",
    "digits = digits + (3, 4)\n",
    "# create a single tuple with elements repeated (also works with lists)\n",
    "(3, 4) * 2 # returns (3, 4, 3, 4)\n",
    "\n",
    "# tuple unpacking\n",
    "bart = ('male', 10, 'simpson') # create a tuple"
   ]
  },
  {
   "cell_type": "markdown",
   "metadata": {},
   "source": [
    "### 6. Strings"
   ]
  },
  {
   "cell_type": "markdown",
   "metadata": {},
   "source": [
    "A sequence of characters, they are iterable, immutable"
   ]
  },
  {
   "cell_type": "code",
   "execution_count": 138,
   "metadata": {},
   "outputs": [
    {
     "data": {
      "text/plain": [
       "'e'"
      ]
     },
     "execution_count": 138,
     "metadata": {},
     "output_type": "execute_result"
    }
   ],
   "source": [
    "# create a string\n",
    "s = str(42) # convert another data type into a string\n",
    "s = 'I like Data Science'\n",
    "\n",
    "# examine a string\n",
    "s[0] # returns 'I'\n",
    "len(s) # returns 19\n",
    "\n",
    "# string slicing like lists\n",
    "s[:6] # returns 'I like'\n",
    "\n",
    "s[7:] # returns 'Data Science'\n",
    "s[-1] # returns 'e'"
   ]
  },
  {
   "cell_type": "code",
   "execution_count": 150,
   "metadata": {},
   "outputs": [
    {
     "data": {
      "text/plain": [
       "'I love Data Science'"
      ]
     },
     "execution_count": 150,
     "metadata": {},
     "output_type": "execute_result"
    }
   ],
   "source": [
    "# basic string methods (does not modify the original string)\n",
    "s.lower() # returns 'i like data science'\n",
    "s.upper() # returns 'I LIKE DATA SCIENCE'\n",
    "\n",
    "s.startswith('I') # returns True\n",
    "s.endswith('Science') # returns True\n",
    "\n",
    "s.isdigit() # returns False (returns True if every character in the string is a␣˓→digit)\n",
    "\n",
    "s.find('like') # returns index of first occurrence (2)\n",
    "s.find('hate') # returns -1 since not found\n",
    "s.replace('like','love') # replaces all instances of 'like' with 'love'\n"
   ]
  },
  {
   "cell_type": "code",
   "execution_count": 158,
   "metadata": {},
   "outputs": [
    {
     "data": {
      "text/plain": [
       "['a', ' an', ' the']"
      ]
     },
     "execution_count": 158,
     "metadata": {},
     "output_type": "execute_result"
    }
   ],
   "source": [
    "# split a string into a list of substrings separated by a delimiter\n",
    "\n",
    "s.split(' ') # returns ['I','like','Data','Science']\n",
    "s.split() # same thing\n",
    "s2 = 'a, an, the'\n",
    "s2.split(',') # returns ['a',' an',' the']"
   ]
  },
  {
   "cell_type": "code",
   "execution_count": 167,
   "metadata": {},
   "outputs": [
    {
     "data": {
      "text/plain": [
       "'The meaning of life is 42'"
      ]
     },
     "execution_count": 167,
     "metadata": {},
     "output_type": "execute_result"
    }
   ],
   "source": [
    "# join a list of strings into one string using a delimiter\n",
    "stooges = ['larry','curly','moe'] \n",
    "' '.join(stooges) # returns 'larry curly moe'\n",
    "\n",
    "# concatenate strings\n",
    "s3 = 'The meaning of life is'\n",
    "s4 = '42'\n",
    "s3 + ' ' + s4 # returns 'The meaning of life is 42'\n",
    "s3 + ' ' + str(42) # same thing"
   ]
  },
  {
   "cell_type": "code",
   "execution_count": 168,
   "metadata": {},
   "outputs": [
    {
     "data": {
      "text/plain": [
       "'ham and cheese'"
      ]
     },
     "execution_count": 168,
     "metadata": {},
     "output_type": "execute_result"
    }
   ],
   "source": [
    "# remove whitespace from start and end of a string\n",
    "\n",
    "s5 = ' ham and cheese '\n",
    "s5.strip() # returns 'ham and cheese'"
   ]
  },
  {
   "cell_type": "code",
   "execution_count": 172,
   "metadata": {},
   "outputs": [
    {
     "data": {
      "text/plain": [
       "'pi is 3.14'"
      ]
     },
     "execution_count": 172,
     "metadata": {},
     "output_type": "execute_result"
    }
   ],
   "source": [
    "# string substitutions: all of these return 'raining cats and dogs'\n",
    "'raining %s and %s' % ('cats','dogs') # old way\n",
    "'raining {} and {}'.format('cats','dogs') # new way\n",
    "'raining {arg1} and {arg2}'.format(arg1='cats',arg2='dogs') # named arguments\n",
    "\n",
    "# string formatting\n",
    "# more examples: http://mkaz.com/2012/10/10/python-string-format/\n",
    "'pi is {:.2f}'.format(3.14159) # returns 'pi is 3.14'"
   ]
  },
  {
   "cell_type": "markdown",
   "metadata": {},
   "source": [
    "### String 2/2"
   ]
  },
  {
   "cell_type": "code",
   "execution_count": 173,
   "metadata": {},
   "outputs": [
    {
     "name": "stdout",
     "output_type": "stream",
     "text": [
      "first line\n",
      "second line\n"
     ]
    }
   ],
   "source": [
    "print('first line\\nsecond line')"
   ]
  },
  {
   "cell_type": "code",
   "execution_count": 174,
   "metadata": {},
   "outputs": [
    {
     "name": "stdout",
     "output_type": "stream",
     "text": [
      "first line\\nfirst line\n"
     ]
    }
   ],
   "source": [
    "# raw strings treat backslashes as literal characters\n",
    "print(r'first line\\nfirst line')"
   ]
  },
  {
   "cell_type": "code",
   "execution_count": 177,
   "metadata": {},
   "outputs": [
    {
     "name": "stdout",
     "output_type": "stream",
     "text": [
      "b'first line\\nsecond line'\n",
      "['first', 'line', 'second', 'line']\n"
     ]
    }
   ],
   "source": [
    "#sequece of bytes are not strings, should be decoded before some operations\n",
    "s = b'first line\\nsecond line'\n",
    "print(s)\n",
    "print(s.decode('utf-8').split())"
   ]
  },
  {
   "cell_type": "markdown",
   "metadata": {},
   "source": [
    "### 7. Dictionaries"
   ]
  },
  {
   "cell_type": "markdown",
   "metadata": {},
   "source": [
    "Dictionaries are structures which can contain multiple data types, and is ordered with key-value\n",
    "pairs: for each (unique) key, the dictionary outputs one value. Keys can be strings, numbers, or\n",
    "tuples, while the corresponding values can be any Python object. Dictionaries are: unordered,\n",
    "iterable, mutable"
   ]
  },
  {
   "cell_type": "code",
   "execution_count": 193,
   "metadata": {},
   "outputs": [],
   "source": [
    "# create an empty dictionary (two ways)\n",
    "empty_dict = {}\n",
    "empty_dict = dict()"
   ]
  },
  {
   "cell_type": "code",
   "execution_count": 194,
   "metadata": {},
   "outputs": [],
   "source": [
    "# create a dictionary (two ways)\n",
    "family = {'dad':'homer', 'mom':'marge', 'size':6}\n",
    "family = dict(dad='homer', mom='marge', size=6)"
   ]
  },
  {
   "cell_type": "code",
   "execution_count": 195,
   "metadata": {},
   "outputs": [
    {
     "data": {
      "text/plain": [
       "{'dad': 'homer', 'mom': 'marge', 'size': 6}"
      ]
     },
     "execution_count": 195,
     "metadata": {},
     "output_type": "execute_result"
    }
   ],
   "source": [
    "family"
   ]
  },
  {
   "cell_type": "code",
   "execution_count": 196,
   "metadata": {},
   "outputs": [],
   "source": [
    "# convert a list of tuples into a dictionary\n",
    "list_of_tuples = [('dad','homer'), ('mom','marge'), ('size', 6)]\n",
    "family = dict(list_of_tuples)"
   ]
  },
  {
   "cell_type": "code",
   "execution_count": 197,
   "metadata": {},
   "outputs": [
    {
     "data": {
      "text/plain": [
       "False"
      ]
     },
     "execution_count": 197,
     "metadata": {},
     "output_type": "execute_result"
    }
   ],
   "source": [
    "# examine a dictionary\n",
    "family['dad'] # returns 'homer'\n",
    "len(family) # returns 3\n",
    "\n",
    "family.keys() # returns list: ['dad', 'mom', 'size']\n",
    "family.values() # returns list: ['homer', 'marge', 6]\n",
    "family.items() # returns list of tuples: # [('dad', 'homer'), ('mom', 'marge'), ('size', 6)]\n",
    "\n",
    "'mom' in family # returns True\n",
    "'marge' in family # returns False (only checks keys)"
   ]
  },
  {
   "cell_type": "code",
   "execution_count": 198,
   "metadata": {},
   "outputs": [],
   "source": [
    "# modify a dictionary (does not return the dictionary)\n",
    "family['cat'] = 'snowball' # add a new entry\n",
    "family['cat'] = 'snowball ii' # edit an existing entry\n",
    "\n",
    "del family['cat'] # delete an entry\n",
    "family['kids'] = ['bart', 'lisa'] # value can be a list\n",
    "family.pop('dad') # removes an entry and returns the value ('homer')\n",
    "family.update({'baby':'maggie', 'grandpa':'abe'}) # add multiple entries"
   ]
  },
  {
   "cell_type": "code",
   "execution_count": 199,
   "metadata": {},
   "outputs": [
    {
     "name": "stdout",
     "output_type": "stream",
     "text": [
      "Error 'grandma'\n"
     ]
    },
    {
     "data": {
      "text/plain": [
       "'youngest child is maggie'"
      ]
     },
     "execution_count": 199,
     "metadata": {},
     "output_type": "execute_result"
    }
   ],
   "source": [
    "# accessing values more safely with 'get'\n",
    "family['mom'] # returns 'marge'\n",
    "family.get('mom') # same thing\n",
    "try:\n",
    "    family['grandma'] # throws an error\n",
    "except KeyError as e:\n",
    "    print(\"Error\", e)\n",
    "\n",
    "family.get('grandma') # returns None\n",
    "family.get('grandma', 'not found') # returns 'not found' (the default)\n",
    "\n",
    "# accessing a list element within a dictionary\n",
    "family['kids'][0] # returns 'bart'\n",
    "family['kids'].remove('lisa') # removes 'lisa'\n",
    "\n",
    "# string substitution using a dictionary\n",
    "'youngest child is %(baby)s' % family # returns 'youngest child is maggie'"
   ]
  },
  {
   "cell_type": "markdown",
   "metadata": {},
   "source": [
    "### 8. Sets"
   ]
  },
  {
   "cell_type": "markdown",
   "metadata": {},
   "source": [
    "Like dictionaries, but with unique keys only (no corresponding values). They are: unordered, iterable,\n",
    "mutable, can contain multiple data types made up of unique elements (strings, numbers, or tuples)"
   ]
  },
  {
   "cell_type": "code",
   "execution_count": 201,
   "metadata": {},
   "outputs": [],
   "source": [
    "# create an empty set\n",
    "empty_set = set()"
   ]
  },
  {
   "cell_type": "code",
   "execution_count": 206,
   "metadata": {},
   "outputs": [
    {
     "data": {
      "text/plain": [
       "True"
      ]
     },
     "execution_count": 206,
     "metadata": {},
     "output_type": "execute_result"
    }
   ],
   "source": [
    "# create a set\n",
    "languages = {'python', 'r', 'java'} # create a set directly\n",
    "snakes = set(['cobra', 'viper', 'python']) # create a set from a list\n",
    "\n",
    "# examine a set\n",
    "len(languages) # returns 3\n",
    "'python' in languages # returns True"
   ]
  },
  {
   "cell_type": "code",
   "execution_count": 207,
   "metadata": {},
   "outputs": [
    {
     "data": {
      "text/plain": [
       "{'cobra', 'viper'}"
      ]
     },
     "execution_count": 207,
     "metadata": {},
     "output_type": "execute_result"
    }
   ],
   "source": [
    "# set operations\n",
    "languages & snakes # returns intersection: {'python'}\n",
    "languages | snakes # returns union: {'cobra', 'r', 'java', 'viper', 'python'}\n",
    "languages - snakes # returns set difference: {'r', 'java'}\n",
    "snakes - languages # returns set difference: {'cobra', 'viper'}"
   ]
  },
  {
   "cell_type": "code",
   "execution_count": 208,
   "metadata": {},
   "outputs": [
    {
     "name": "stdout",
     "output_type": "stream",
     "text": [
      "Error 'c'\n"
     ]
    },
    {
     "data": {
      "text/plain": [
       "'python'"
      ]
     },
     "execution_count": 208,
     "metadata": {},
     "output_type": "execute_result"
    }
   ],
   "source": [
    "# modify a set (does not return the set)\n",
    "languages.add('sql') # add a new element\n",
    "languages.add('r') # try to add an existing element (ignored, no error)\n",
    "languages.remove('java') # remove an element\n",
    "try:\n",
    "    languages.remove('c') # try to remove a non-existing element (throws an error)\n",
    "except KeyError as e:\n",
    "    print(\"Error\", e)\n",
    "languages.discard('c') # removes an element if present, but ignored otherwise\n",
    "languages.pop() # removes and returns an arbitrary element\n",
    "languages.clear() # removes all elements\n",
    "languages.update('go', 'spark') # add multiple elements (can also pass a list or set)\n",
    "\n",
    "# get a sorted list of unique elements from a list\n",
    "sorted(set([9, 0, 2, 1, 0])) # returns [0, 1, 2, 9]"
   ]
  },
  {
   "cell_type": "markdown",
   "metadata": {},
   "source": [
    "### 9. Execution control statements"
   ]
  },
  {
   "cell_type": "markdown",
   "metadata": {},
   "source": [
    "#### Conditional statements"
   ]
  },
  {
   "cell_type": "code",
   "execution_count": 210,
   "metadata": {},
   "outputs": [
    {
     "name": "stdout",
     "output_type": "stream",
     "text": [
      "positive\n",
      "positive\n",
      "positive\n",
      "positive\n"
     ]
    },
    {
     "data": {
      "text/plain": [
       "'positive'"
      ]
     },
     "execution_count": 210,
     "metadata": {},
     "output_type": "execute_result"
    }
   ],
   "source": [
    "x = 3\n",
    "# if statement\n",
    "if x > 0:\n",
    "    print('positive')\n",
    "    \n",
    "# if/else statement\n",
    "if x > 0:\n",
    "    print('positive')\n",
    "else:\n",
    "    print('zero or negative')\n",
    "\n",
    "    # if/elif/else statement\n",
    "if x > 0:\n",
    "    print('positive')\n",
    "elif x == 0:\n",
    "    print('zero')\n",
    "else:\n",
    "    print('negative')\n",
    "    \n",
    "# single-line if statement (sometimes discouraged)\n",
    "if x > 0: print('positive')\n",
    "    \n",
    "# single-line if/else statement (sometimes discouraged)\n",
    "# known as a 'ternary operator'\n",
    "'positive' if x > 0 else 'zero or negative'"
   ]
  },
  {
   "cell_type": "markdown",
   "metadata": {},
   "source": [
    "#### Loops"
   ]
  },
  {
   "cell_type": "code",
   "execution_count": 212,
   "metadata": {},
   "outputs": [
    {
     "name": "stdout",
     "output_type": "stream",
     "text": [
      "APPLE\n",
      "BANANA\n",
      "CHERRY\n",
      "APPLE\n",
      "BANANA\n",
      "CHERRY\n",
      "dad homer\n",
      "mom marge\n",
      "size 6\n",
      "0 apple\n",
      "1 banana\n",
      "2 cherry\n",
      "Can't find the banana\n",
      "Found the banana!\n",
      "This will print 5 times\n",
      "This will print 5 times\n",
      "This will print 5 times\n",
      "This will print 5 times\n",
      "This will print 5 times\n"
     ]
    }
   ],
   "source": [
    "# range returns a list of integers\n",
    "range(0, 3) # returns [0, 1, 2]: includes first value but excludes second value\n",
    "range(3) # same thing: starting at zero is the default\n",
    "range(0, 5, 2) # returns [0, 2, 4]: third argument specifies the 'stride'\n",
    "\n",
    "# for loop (not recommended)\n",
    "fruits = ['apple', 'banana', 'cherry']\n",
    "for i in range(len(fruits)):\n",
    "    print(fruits[i].upper())\n",
    "    \n",
    "# alternative for loop (recommended style)\n",
    "for fruit in fruits:\n",
    "    print(fruit.upper())\n",
    "    \n",
    "# use range when iterating over a large sequence to avoid actually creating the integer␣˓→list in memory\n",
    "for i in range(10**6):\n",
    "    pass\n",
    "\n",
    "# iterate through two things at once (using tuple unpacking)\n",
    "family = {'dad':'homer', 'mom':'marge', 'size':6}\n",
    "for key, value in family.items():\n",
    "    print(key, value)\n",
    "\n",
    "# use enumerate if you need to access the index value within the loop\n",
    "for index, fruit in enumerate(fruits):\n",
    "    print(index, fruit)\n",
    "\n",
    "# for/else loop\n",
    "for fruit in fruits:\n",
    "    if fruit == 'banana':\n",
    "        print(\"Found the banana!\")\n",
    "        break # exit the loop and skip the 'else' block\n",
    "    else:\n",
    "        # this block executes ONLY if the for loop completes without hitting 'break'\n",
    "        print(\"Can't find the banana\")\n",
    "        \n",
    "# while loop\n",
    "count = 0\n",
    "while count < 5:\n",
    "    print(\"This will print 5 times\")\n",
    "    count += 1 # equivalent to 'count = count + 1'"
   ]
  },
  {
   "cell_type": "markdown",
   "metadata": {},
   "source": [
    "### 10. Functions"
   ]
  },
  {
   "cell_type": "code",
   "execution_count": 215,
   "metadata": {},
   "outputs": [
    {
     "name": "stdout",
     "output_type": "stream",
     "text": [
      "this is text\n",
      "3\n",
      "3\n"
     ]
    }
   ],
   "source": [
    "# define a function with no arguments and no return values\n",
    "def print_text():\n",
    "    print('this is text')\n",
    "    \n",
    "# call the function\n",
    "print_text()"
   ]
  },
  {
   "cell_type": "code",
   "execution_count": 216,
   "metadata": {},
   "outputs": [
    {
     "name": "stdout",
     "output_type": "stream",
     "text": [
      "3\n",
      "3\n"
     ]
    }
   ],
   "source": [
    "# define a function with one argument and no return values\n",
    "def print_this(x):\n",
    "    print(x)\n",
    "    \n",
    "# call the function\n",
    "print_this(3) # prints 3\n",
    "n = print_this(3) # prints 3, but doesn't assign 3 to n\n",
    "                  # because the function has no return statement"
   ]
  },
  {
   "cell_type": "code",
   "execution_count": 217,
   "metadata": {},
   "outputs": [],
   "source": [
    "# define a function with one argument and one return value\n",
    "def square_this(x):\n",
    "    return x ** 2"
   ]
  },
  {
   "cell_type": "code",
   "execution_count": 220,
   "metadata": {},
   "outputs": [
    {
     "data": {
      "text/plain": [
       "9"
      ]
     },
     "execution_count": 220,
     "metadata": {},
     "output_type": "execute_result"
    }
   ],
   "source": [
    "# include an optional docstring to describe the effect of a function\n",
    "def square_this(x):\n",
    "    \"\"\"Return the square of a number.\"\"\"\n",
    "    return x ** 2\n",
    "\n",
    "# call the function\n",
    "square_this(3) # prints 9\n",
    "var = square_this(3) # assigns 9 to var, but does not print 9"
   ]
  },
  {
   "cell_type": "code",
   "execution_count": 221,
   "metadata": {},
   "outputs": [
    {
     "data": {
      "text/plain": [
       "8"
      ]
     },
     "execution_count": 221,
     "metadata": {},
     "output_type": "execute_result"
    }
   ],
   "source": [
    "# default arguments\n",
    "def power_this(x, power=2):\n",
    "    return x ** power\n",
    "\n",
    "power_this(2) # 4\n",
    "power_this(2, 3) # 8"
   ]
  },
  {
   "cell_type": "code",
   "execution_count": 222,
   "metadata": {},
   "outputs": [],
   "source": [
    "# use 'pass' as a placeholder if you haven't written the function body\n",
    "def stub():\n",
    "    pass\n",
    "\n",
    "# return two values from a single function\n",
    "def min_max(nums):\n",
    "    return min(nums), max(nums)"
   ]
  },
  {
   "cell_type": "code",
   "execution_count": 223,
   "metadata": {},
   "outputs": [],
   "source": [
    "# return values can be assigned to a single variable as a tuple\n",
    "nums = [1, 2, 3]\n",
    "min_max_num = min_max(nums) # min_max_num = (1, 3)"
   ]
  },
  {
   "cell_type": "code",
   "execution_count": 224,
   "metadata": {},
   "outputs": [],
   "source": [
    "# return values can be assigned into multiple variables using tuple unpacking\n",
    "min_num, max_num = min_max(nums) # min_num = 1, max_num = 3"
   ]
  },
  {
   "cell_type": "markdown",
   "metadata": {},
   "source": [
    "### 11. NUMPY: ARRAYS AND MATRICES"
   ]
  },
  {
   "cell_type": "markdown",
   "metadata": {},
   "source": [
    "#### Create arrays"
   ]
  },
  {
   "cell_type": "markdown",
   "metadata": {},
   "source": [
    "Create ndarrays from lists. note: every element must be the same type (will be converted if possible)"
   ]
  },
  {
   "cell_type": "code",
   "execution_count": 227,
   "metadata": {},
   "outputs": [
    {
     "data": {
      "text/plain": [
       "[[1, 2, 3, 4], [5, 6, 7, 8]]"
      ]
     },
     "execution_count": 227,
     "metadata": {},
     "output_type": "execute_result"
    }
   ],
   "source": [
    "import numpy as np\n",
    "data1 = [1, 2, 3, 4, 5] # list\n",
    "arr1 = np.array(data1) # 1d array\n",
    "\n",
    "data2 = [range(1, 5), range(5, 9)] # list of lists\n",
    "arr2 = np.array(data2) # 2d array\n",
    "\n",
    "arr2.tolist() # convert array back to list"
   ]
  },
  {
   "cell_type": "code",
   "execution_count": 233,
   "metadata": {},
   "outputs": [
    {
     "name": "stdout",
     "output_type": "stream",
     "text": [
      "[0.   0.25 0.5  0.75 1.  ]\n"
     ]
    },
    {
     "data": {
      "text/plain": [
       "array([   1.,   10.,  100., 1000.])"
      ]
     },
     "execution_count": 233,
     "metadata": {},
     "output_type": "execute_result"
    }
   ],
   "source": [
    "# create special arrays\n",
    "\n",
    "np.zeros(10)\n",
    "np.zeros((3, 6))\n",
    "np.ones(10)\n",
    "\n",
    "print(np.linspace(0, 1, 5)) # 0 to 1 (inclusive) with 5 points\n",
    "np.logspace(0, 3, 4) # 10^0 to 10^3 (inclusive) with 4 points"
   ]
  },
  {
   "cell_type": "code",
   "execution_count": 234,
   "metadata": {},
   "outputs": [],
   "source": [
    "# arange is like range, except it returns an array (not a list)\n",
    "int_array = np.arange(5)\n",
    "float_array = int_array.astype(float)"
   ]
  },
  {
   "cell_type": "markdown",
   "metadata": {},
   "source": [
    "#### Examining arrays"
   ]
  },
  {
   "cell_type": "code",
   "execution_count": 235,
   "metadata": {},
   "outputs": [
    {
     "data": {
      "text/plain": [
       "2"
      ]
     },
     "execution_count": 235,
     "metadata": {},
     "output_type": "execute_result"
    }
   ],
   "source": [
    "arr1.dtype # float64\n",
    "arr2.dtype # int32\n",
    "arr2.ndim # 2\n",
    "\n",
    "arr2.shape # (2, 4) - axis 0 is rows, axis 1 is columns\n",
    "arr2.size # 8 - total number of elements\n",
    "len(arr2) # 2 - size of first dimension (aka axis)"
   ]
  },
  {
   "cell_type": "markdown",
   "metadata": {},
   "source": [
    "#### Reshaping"
   ]
  },
  {
   "cell_type": "code",
   "execution_count": 236,
   "metadata": {},
   "outputs": [
    {
     "name": "stdout",
     "output_type": "stream",
     "text": [
      "(2, 5)\n",
      "[[0. 1.]\n",
      " [2. 3.]\n",
      " [4. 5.]\n",
      " [6. 7.]\n",
      " [8. 9.]]\n"
     ]
    }
   ],
   "source": [
    "arr = np.arange(10, dtype=float).reshape((2, 5))\n",
    "print(arr.shape)\n",
    "print(arr.reshape(5, 2))"
   ]
  },
  {
   "cell_type": "markdown",
   "metadata": {},
   "source": [
    "#### PANDAS: DATA MANIPULATION"
   ]
  },
  {
   "cell_type": "code",
   "execution_count": 239,
   "metadata": {},
   "outputs": [],
   "source": [
    "import pandas as pd\n",
    "import numpy as np\n",
    "import matplotlib.pyplot as plt"
   ]
  },
  {
   "cell_type": "markdown",
   "metadata": {},
   "source": [
    "#### Create DataFrame"
   ]
  },
  {
   "cell_type": "code",
   "execution_count": 241,
   "metadata": {},
   "outputs": [
    {
     "name": "stdout",
     "output_type": "stream",
     "text": [
      "   age gender        job   name\n",
      "0   33      M   engineer  peter\n",
      "1   44      F  scientist  julie\n"
     ]
    }
   ],
   "source": [
    "columns = ['name', 'age', 'gender', 'job']\n",
    "user1 = pd.DataFrame([['alice', 19, \"F\", \"student\"],['john', 26, \"M\", \"student\"]],columns=columns)\n",
    "user2 = pd.DataFrame([['eric', 22, \"M\", \"student\"],['paul', 58, \"F\", \"manager\"]],columns=columns)\n",
    "user3 = pd.DataFrame(dict(name=['peter', 'julie'],age=[33, 44], gender=['M', 'F'],\n",
    "job=['engineer', 'scientist']))\n",
    "print(user3)"
   ]
  },
  {
   "cell_type": "markdown",
   "metadata": {},
   "source": [
    "#### Concatenate DataFrame"
   ]
  },
  {
   "cell_type": "code",
   "execution_count": 242,
   "metadata": {},
   "outputs": [
    {
     "name": "stdout",
     "output_type": "stream",
     "text": [
      "   age gender        job   name\n",
      "0   19      F    student  alice\n",
      "1   26      M    student   john\n",
      "0   22      M    student   eric\n",
      "1   58      F    manager   paul\n",
      "0   33      M   engineer  peter\n",
      "1   44      F  scientist  julie\n"
     ]
    }
   ],
   "source": [
    "user1.append(user2)\n",
    "users = pd.concat([user1, user2, user3])\n",
    "print(users)"
   ]
  },
  {
   "cell_type": "markdown",
   "metadata": {},
   "source": [
    "#### Join DataFrame"
   ]
  },
  {
   "cell_type": "code",
   "execution_count": 243,
   "metadata": {},
   "outputs": [
    {
     "name": "stdout",
     "output_type": "stream",
     "text": [
      "   height   name\n",
      "0     165  alice\n",
      "1     180   john\n",
      "2     175   eric\n",
      "3     171  julie\n"
     ]
    }
   ],
   "source": [
    "user4 = pd.DataFrame(dict(name=['alice', 'john', 'eric', 'julie'],\n",
    "height=[165, 180, 175, 171]))\n",
    "print(user4)"
   ]
  },
  {
   "cell_type": "code",
   "execution_count": 245,
   "metadata": {},
   "outputs": [
    {
     "name": "stdout",
     "output_type": "stream",
     "text": [
      "   age gender        job   name  height\n",
      "0   19      F    student  alice     165\n",
      "1   26      M    student   john     180\n",
      "2   22      M    student   eric     175\n",
      "3   44      F  scientist  julie     171\n"
     ]
    }
   ],
   "source": [
    "# Use intersection of keys from both frames\n",
    "merge_inter = pd.merge(users, user4, on=\"name\")\n",
    "print(merge_inter)"
   ]
  },
  {
   "cell_type": "code",
   "execution_count": 246,
   "metadata": {},
   "outputs": [
    {
     "name": "stdout",
     "output_type": "stream",
     "text": [
      "   age gender        job   name  height\n",
      "0   19      F    student  alice   165.0\n",
      "1   26      M    student   john   180.0\n",
      "2   22      M    student   eric   175.0\n",
      "3   58      F    manager   paul     NaN\n",
      "4   33      M   engineer  peter     NaN\n",
      "5   44      F  scientist  julie   171.0\n"
     ]
    }
   ],
   "source": [
    "# Use union of keys from both frames\n",
    "users = pd.merge(users, user4, on=\"name\", how='outer')\n",
    "print(users)"
   ]
  },
  {
   "cell_type": "markdown",
   "metadata": {},
   "source": [
    "### Summarizing"
   ]
  },
  {
   "cell_type": "code",
   "execution_count": 247,
   "metadata": {},
   "outputs": [
    {
     "name": "stdout",
     "output_type": "stream",
     "text": [
      "<class 'pandas.core.frame.DataFrame'>\n",
      "Int64Index: 6 entries, 0 to 5\n",
      "Data columns (total 5 columns):\n",
      "age       6 non-null int64\n",
      "gender    6 non-null object\n",
      "job       6 non-null object\n",
      "name      6 non-null object\n",
      "height    4 non-null float64\n",
      "dtypes: float64(1), int64(1), object(3)\n",
      "memory usage: 288.0+ bytes\n"
     ]
    }
   ],
   "source": [
    "# examine the users data\n",
    "users # print the first 30 and last 30 rows\n",
    "type(users) # DataFrame\n",
    "users.head() # print the first 5 rows\n",
    "users.tail() # print the last 5 rows\n",
    "users.index # \"the index\" (aka \"the labels\")\n",
    "users.columns # column names (which is \"an index\")\n",
    "users.dtypes # data types of each column\n",
    "users.shape # number of rows and columns\n",
    "users.values # underlying numpy array\n",
    "users.info() # concise summary (includes memory usage as of pandas 0.15.0"
   ]
  },
  {
   "cell_type": "markdown",
   "metadata": {},
   "source": [
    "#### Columns Selection"
   ]
  },
  {
   "cell_type": "code",
   "execution_count": 248,
   "metadata": {},
   "outputs": [
    {
     "data": {
      "text/plain": [
       "pandas.core.frame.DataFrame"
      ]
     },
     "execution_count": 248,
     "metadata": {},
     "output_type": "execute_result"
    }
   ],
   "source": [
    "users['gender'] # select one column\n",
    "type(users['gender']) # Series\n",
    "users.gender # select one column using the DataFrame\n",
    "# select multiple columns\n",
    "users[['age', 'gender']] # select two columns\n",
    "my_cols = ['age', 'gender'] # or, create a list...\n",
    "users[my_cols] # ...and use that list to select columns\n",
    "type(users[my_cols]) # DataFrame"
   ]
  },
  {
   "cell_type": "code",
   "execution_count": 250,
   "metadata": {},
   "outputs": [
    {
     "name": "stderr",
     "output_type": "stream",
     "text": [
      "C:\\Program Files\\Anaconda3\\lib\\site-packages\\pandas\\core\\generic.py:3643: SettingWithCopyWarning: \n",
      "A value is trying to be set on a copy of a slice from a DataFrame\n",
      "\n",
      "See the caveats in the documentation: http://pandas.pydata.org/pandas-docs/stable/indexing.html#indexing-view-versus-copy\n",
      "  self[name] = value\n"
     ]
    },
    {
     "name": "stdout",
     "output_type": "stream",
     "text": [
      "   age gender        job   name  height\n",
      "0   55      F    student  alice   165.0\n",
      "1   26      M    student   john   180.0\n",
      "2   22      M    student   eric   175.0\n",
      "3   58      F    manager   paul     NaN\n",
      "4   33      M   engineer  peter     NaN\n",
      "5   44      F  scientist  julie   171.0\n"
     ]
    }
   ],
   "source": [
    "# Rows selection (basic) iloc is strictly integer position based\n",
    "\n",
    "df = users.copy()\n",
    "df.iloc[0] # first row\n",
    "df.iloc[0, 0] # first item of first row\n",
    "df.iloc[0, 0] = 55\n",
    "for i in range(users.shape[0]):\n",
    "    row = df.iloc[i]\n",
    "    row.age *= 100 # setting a copy, and not the original frame data.\n",
    "print(df) # df is not modified"
   ]
  },
  {
   "cell_type": "code",
   "execution_count": 251,
   "metadata": {},
   "outputs": [],
   "source": [
    "### Rows selection (filtering)\n",
    "\n",
    "users[users.age < 20] # only show users with age < 20\n",
    "young_bool = users.age < 20 # or, create a Series of booleans...\n",
    "young = users[young_bool] # ...and use that Series to filter rows"
   ]
  },
  {
   "cell_type": "code",
   "execution_count": 252,
   "metadata": {},
   "outputs": [
    {
     "name": "stdout",
     "output_type": "stream",
     "text": [
      "   age gender      job   name  height\n",
      "0   19      F  student  alice   165.0\n"
     ]
    }
   ],
   "source": [
    "users[users.age < 20].job # select one column from the filtered results\n",
    "print(young)"
   ]
  },
  {
   "cell_type": "code",
   "execution_count": 253,
   "metadata": {},
   "outputs": [
    {
     "data": {
      "text/html": [
       "<div>\n",
       "<style scoped>\n",
       "    .dataframe tbody tr th:only-of-type {\n",
       "        vertical-align: middle;\n",
       "    }\n",
       "\n",
       "    .dataframe tbody tr th {\n",
       "        vertical-align: top;\n",
       "    }\n",
       "\n",
       "    .dataframe thead th {\n",
       "        text-align: right;\n",
       "    }\n",
       "</style>\n",
       "<table border=\"1\" class=\"dataframe\">\n",
       "  <thead>\n",
       "    <tr style=\"text-align: right;\">\n",
       "      <th></th>\n",
       "      <th>age</th>\n",
       "      <th>gender</th>\n",
       "      <th>job</th>\n",
       "      <th>name</th>\n",
       "      <th>height</th>\n",
       "    </tr>\n",
       "  </thead>\n",
       "  <tbody>\n",
       "    <tr>\n",
       "      <th>0</th>\n",
       "      <td>19</td>\n",
       "      <td>F</td>\n",
       "      <td>student</td>\n",
       "      <td>alice</td>\n",
       "      <td>165.0</td>\n",
       "    </tr>\n",
       "    <tr>\n",
       "      <th>1</th>\n",
       "      <td>26</td>\n",
       "      <td>M</td>\n",
       "      <td>student</td>\n",
       "      <td>john</td>\n",
       "      <td>180.0</td>\n",
       "    </tr>\n",
       "    <tr>\n",
       "      <th>2</th>\n",
       "      <td>22</td>\n",
       "      <td>M</td>\n",
       "      <td>student</td>\n",
       "      <td>eric</td>\n",
       "      <td>175.0</td>\n",
       "    </tr>\n",
       "    <tr>\n",
       "      <th>4</th>\n",
       "      <td>33</td>\n",
       "      <td>M</td>\n",
       "      <td>engineer</td>\n",
       "      <td>peter</td>\n",
       "      <td>NaN</td>\n",
       "    </tr>\n",
       "  </tbody>\n",
       "</table>\n",
       "</div>"
      ],
      "text/plain": [
       "   age gender       job   name  height\n",
       "0   19      F   student  alice   165.0\n",
       "1   26      M   student   john   180.0\n",
       "2   22      M   student   eric   175.0\n",
       "4   33      M  engineer  peter     NaN"
      ]
     },
     "execution_count": 253,
     "metadata": {},
     "output_type": "execute_result"
    }
   ],
   "source": [
    "users[users.age < 20][['age', 'job']] # select multiple columns\n",
    "users[(users.age > 20) & (users.gender == 'M')] # use multiple conditions\n",
    "users[users.job.isin(['student', 'engineer'])] # filter specific values"
   ]
  },
  {
   "cell_type": "markdown",
   "metadata": {},
   "source": [
    "### Sorting"
   ]
  },
  {
   "cell_type": "code",
   "execution_count": 254,
   "metadata": {},
   "outputs": [
    {
     "name": "stdout",
     "output_type": "stream",
     "text": [
      "   age gender        job   name  height\n",
      "4   33      M   engineer  peter     NaN\n",
      "3   58      F    manager   paul     NaN\n",
      "5   44      F  scientist  julie   171.0\n",
      "0   19      F    student  alice   165.0\n",
      "2   22      M    student   eric   175.0\n",
      "1   26      M    student   john   180.0\n"
     ]
    }
   ],
   "source": [
    "df = users.copy()\n",
    "df.age.sort_values() # only works for a Series\n",
    "df.sort_values(by='age') # sort rows by a specific column\n",
    "df.sort_values(by='age', ascending=False) # use descending order instead\n",
    "df.sort_values(by=['job', 'age']) # sort by multiple columns\n",
    "df.sort_values(by=['job', 'age'], inplace=True) # modify df\n",
    "print(df)"
   ]
  },
  {
   "cell_type": "markdown",
   "metadata": {},
   "source": [
    "### Descriptive statistics"
   ]
  },
  {
   "cell_type": "code",
   "execution_count": 255,
   "metadata": {},
   "outputs": [
    {
     "name": "stdout",
     "output_type": "stream",
     "text": [
      "             age      height\n",
      "count   6.000000    4.000000\n",
      "mean   33.666667  172.750000\n",
      "std    14.895189    6.344289\n",
      "min    19.000000  165.000000\n",
      "25%    23.000000  169.500000\n",
      "50%    29.500000  173.000000\n",
      "75%    41.250000  176.250000\n",
      "max    58.000000  180.000000\n"
     ]
    }
   ],
   "source": [
    "print(df.describe())"
   ]
  },
  {
   "cell_type": "code",
   "execution_count": 256,
   "metadata": {},
   "outputs": [
    {
     "name": "stdout",
     "output_type": "stream",
     "text": [
      "              age gender      job   name      height\n",
      "count    6.000000      6        6      6    4.000000\n",
      "unique        NaN      2        4      6         NaN\n",
      "top           NaN      F  student  alice         NaN\n",
      "freq          NaN      3        3      1         NaN\n",
      "mean    33.666667    NaN      NaN    NaN  172.750000\n",
      "std     14.895189    NaN      NaN    NaN    6.344289\n",
      "min     19.000000    NaN      NaN    NaN  165.000000\n",
      "25%     23.000000    NaN      NaN    NaN  169.500000\n",
      "50%     29.500000    NaN      NaN    NaN  173.000000\n",
      "75%     41.250000    NaN      NaN    NaN  176.250000\n",
      "max     58.000000    NaN      NaN    NaN  180.000000\n",
      "       gender      job   name\n",
      "count       6        6      6\n",
      "unique      2        4      6\n",
      "top         F  student  alice\n",
      "freq        3        3      1\n"
     ]
    }
   ],
   "source": [
    "# Summarize all columns\n",
    "print(df.describe(include='all'))\n",
    "print(df.describe(include=['object'])) # limit to one (or more) types"
   ]
  },
  {
   "cell_type": "code",
   "execution_count": 257,
   "metadata": {},
   "outputs": [
    {
     "name": "stdout",
     "output_type": "stream",
     "text": [
      "                 age      height\n",
      "job                             \n",
      "engineer   33.000000         NaN\n",
      "manager    58.000000         NaN\n",
      "scientist  44.000000  171.000000\n",
      "student    22.333333  173.333333\n",
      "job\n",
      "engineer     33.000000\n",
      "manager      58.000000\n",
      "scientist    44.000000\n",
      "student      22.333333\n",
      "Name: age, dtype: float64\n",
      "            age                                                               \\\n",
      "          count unique top freq       mean       std   min   25%   50%   75%   \n",
      "job                                                                            \n",
      "engineer    1.0    NaN NaN  NaN  33.000000       NaN  33.0  33.0  33.0  33.0   \n",
      "manager     1.0    NaN NaN  NaN  58.000000       NaN  58.0  58.0  58.0  58.0   \n",
      "scientist   1.0    NaN NaN  NaN  44.000000       NaN  44.0  44.0  44.0  44.0   \n",
      "student     3.0    NaN NaN  NaN  22.333333  3.511885  19.0  20.5  22.0  24.0   \n",
      "\n",
      "          ...    name                                                 \n",
      "          ...  unique    top freq mean  std  min  25%  50%  75%  max  \n",
      "job       ...                                                         \n",
      "engineer  ...       1  peter    1  NaN  NaN  NaN  NaN  NaN  NaN  NaN  \n",
      "manager   ...       1   paul    1  NaN  NaN  NaN  NaN  NaN  NaN  NaN  \n",
      "scientist ...       1  julie    1  NaN  NaN  NaN  NaN  NaN  NaN  NaN  \n",
      "student   ...       3   eric    1  NaN  NaN  NaN  NaN  NaN  NaN  NaN  \n",
      "\n",
      "[4 rows x 44 columns]\n"
     ]
    }
   ],
   "source": [
    "# Statistics per group (groupby)\n",
    "print(df.groupby(\"job\").mean())\n",
    "print(df.groupby(\"job\")[\"age\"].mean())\n",
    "print(df.groupby(\"job\").describe(include='all'))"
   ]
  },
  {
   "cell_type": "code",
   "execution_count": null,
   "metadata": {},
   "outputs": [],
   "source": []
  }
 ],
 "metadata": {
  "kernelspec": {
   "display_name": "Python 3",
   "language": "python",
   "name": "python3"
  },
  "language_info": {
   "codemirror_mode": {
    "name": "ipython",
    "version": 3
   },
   "file_extension": ".py",
   "mimetype": "text/x-python",
   "name": "python",
   "nbconvert_exporter": "python",
   "pygments_lexer": "ipython3",
   "version": "3.7.4"
  },
  "widgets": {
   "application/vnd.jupyter.widget-state+json": {
    "state": {},
    "version_major": 2,
    "version_minor": 0
   }
  }
 },
 "nbformat": 4,
 "nbformat_minor": 2
}
